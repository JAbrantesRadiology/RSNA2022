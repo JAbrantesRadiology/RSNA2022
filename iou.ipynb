{
 "cells": [
  {
   "cell_type": "markdown",
   "metadata": {},
   "source": [
    "# What gets measured gets managed\n",
    "### Evaluating labelling and detection tasks performance using the intersection over union metric"
   ]
  },
  {
   "cell_type": "code",
   "execution_count": 1,
   "metadata": {},
   "outputs": [],
   "source": [
    "import json\n",
    "import numpy as np\n",
    "import pandas as pd\n",
    "from statistics import mean, median\n",
    "from scipy import stats\n",
    "import matplotlib.pyplot as plt\n",
    "import seaborn as sns\n",
    "from bioinfokit.analys import stat"
   ]
  },
  {
   "cell_type": "code",
   "execution_count": 2,
   "metadata": {},
   "outputs": [],
   "source": [
    "def openjson(json_to_load):\n",
    "    \"\"\"Open the json file. \n",
    "    Arguments: json file to load. \"\"\"\n",
    "    f = open(json_to_load)\n",
    "    jsonfile = json.load(f)\n",
    "    f.close\n",
    "    return jsonfile"
   ]
  },
  {
   "cell_type": "code",
   "execution_count": 3,
   "metadata": {},
   "outputs": [],
   "source": [
    "def get_label_names(json_file):\n",
    "    jsonfile = openjson(json_file)\n",
    "    for groups in jsonfile['labelGroups']:\n",
    "        existing_labels = groups['labels']\n",
    "        for label in existing_labels:\n",
    "            print(\"The label named:'\",label['name'],\"' has the following id:\",label['id'])\n",
    "        print(\"Please choose similar labels to use for the calculation of the intersection over union score.\")"
   ]
  },
  {
   "cell_type": "code",
   "execution_count": 4,
   "metadata": {},
   "outputs": [],
   "source": [
    "def get_label_ids(json_file,label_name):\n",
    "    chosenlabel=[]\n",
    "    jsonfile = openjson(json_file)\n",
    "    for groups in jsonfile['labelGroups']:\n",
    "        existing_labels = groups['labels']\n",
    "        for label in existing_labels:\n",
    "            if label['name'] == label_name:\n",
    "                chosenlabel.append(label['id'])"
   ]
  },
  {
   "cell_type": "code",
   "execution_count": 5,
   "metadata": {},
   "outputs": [],
   "source": [
    "def get_coordinates(jsonfile, chosenlabel):\n",
    "    \"\"\"Extract the SOPInstanceUID, label ID and coordinates for the bounding box from a json file downloaded from https://md.ai/\n",
    "    Arguments: json file to extract the needed information.\"\"\"\n",
    "    coordinate_list=[]\n",
    "    study_id_list=[]\n",
    "    label_id_list=[]\n",
    "    x1_pos_list=[]\n",
    "    y1_pos_list=[]\n",
    "    x2_pos_list=[]\n",
    "    y2_pos_list=[]\n",
    "    globaldatasetdata = jsonfile['datasets']\n",
    "    for datasetdata in globaldatasetdata:\n",
    "        list_of_annotations = datasetdata['annotations']\n",
    "        for dict_of_annotations in list_of_annotations:\n",
    "            for label_to_compare in chosenlabel:\n",
    "                if dict_of_annotations['labelId'] == label_to_compare:\n",
    "                    study_id = dict_of_annotations['SOPInstanceUID']\n",
    "                    study_id_list.append(study_id)\n",
    "                    label_id = dict_of_annotations['labelId']\n",
    "                    label_id_list.append(label_id)\n",
    "                    x1_pos = dict_of_annotations['data']['x']\n",
    "                    x1_pos_list.append(x1_pos)\n",
    "                    y1_pos = dict_of_annotations['data']['y']\n",
    "                    y1_pos_list.append(y1_pos)\n",
    "                    x2_pos = (dict_of_annotations['data']['x']+dict_of_annotations['data']['width'])\n",
    "                    x2_pos_list.append(x2_pos)\n",
    "                    y2_pos = (dict_of_annotations['data']['y']+dict_of_annotations['data']['height'])\n",
    "                    y2_pos_list.append(y2_pos)\n",
    "                else:\n",
    "                    pass\n",
    "        coordinate_list.append(study_id_list)\n",
    "        coordinate_list.append(label_id_list)\n",
    "        coordinate_list.append(x1_pos_list)\n",
    "        coordinate_list.append(y1_pos_list)\n",
    "        coordinate_list.append(x2_pos_list)\n",
    "        coordinate_list.append(y2_pos_list)\n",
    "        return coordinate_list"
   ]
  },
  {
   "cell_type": "code",
   "execution_count": 6,
   "metadata": {},
   "outputs": [],
   "source": [
    "def create_dataframe(json_1, json_2, chosenlabel):\n",
    "    \"\"\"Create pandas dataframes to concatenate both files and join on the SOPInstanceUID\"\"\"\n",
    "    first_coords = get_coordinates(json_1, chosenlabel)\n",
    "    df_resident = pd.DataFrame(first_coords)\n",
    "    df_resident = df_resident.transpose()#Transpose each instance into a row\n",
    "    df_resident.columns = ['id','label','x1','x2', 'y1', 'y2']\n",
    "\n",
    "    second_coords = get_coordinates(json_2, chosenlabel)\n",
    "    df_answer = pd.DataFrame(second_coords)\n",
    "    df_answer = df_answer.transpose()#Transpose each instance into a row\n",
    "    df_answer.columns = ['id','label','x3','x4', 'y3', 'y4']\n",
    "\n",
    "    df_final = df_resident.merge(df_answer, how='inner', on='id')\n",
    "    df_final.drop('label_y', axis=1, inplace=True) #remove the duplicated label information\n",
    "    return df_final"
   ]
  },
  {
   "cell_type": "code",
   "execution_count": 7,
   "metadata": {},
   "outputs": [],
   "source": [
    "def bb_intersection_over_union(boxA, boxB): #Reference: https://pyimagesearch.com/2016/11/07/intersection-over-union-iou-for-object-detection/\n",
    "\t\"\"\" We assume that the box follows the format:\n",
    "\t\tbox1 = [x1,y1,x2,y2], and box2 = [x3,y3,x4,y4],\n",
    "\t\twhere (x1,y1) and (x3,y3) represent the top left coordinate,\n",
    "\t\tand (x2,y2) and (x4,y4) represent the bottom right coordinate \"\"\"\n",
    "\t# determine the (x, y)-coordinates of the intersection rectangle\n",
    "\txA = max(boxA[0], boxB[0])\n",
    "\tyA = max(boxA[1], boxB[1])\n",
    "\txB = min(boxA[2], boxB[2])\n",
    "\tyB = min(boxA[3], boxB[3])\n",
    "\t# compute the area of intersection rectangle\n",
    "\tinterArea = max(0, xB - xA + 1) * max(0, yB - yA + 1)\n",
    "\t# compute the area of both the prediction and ground-truth\n",
    "\t# rectangles\n",
    "\tboxAArea = (boxA[2] - boxA[0] + 1) * (boxA[3] - boxA[1] + 1)\n",
    "\tboxBArea = (boxB[2] - boxB[0] + 1) * (boxB[3] - boxB[1] + 1)\n",
    "\t# compute the intersection over union by taking the intersection\n",
    "\t# area and dividing it by the sum of prediction + ground-truth\n",
    "\t# areas - the interesection area\n",
    "\tiou = interArea / float(boxAArea + boxBArea - interArea)\n",
    "\t# return the intersection over union value\n",
    "\treturn iou"
   ]
  },
  {
   "cell_type": "code",
   "execution_count": 8,
   "metadata": {},
   "outputs": [],
   "source": [
    "def listofIoU(json_1, json_2, chosenlabel):\n",
    "    \"\"\"Create a list of the iou values for each instance evaluated.\"\"\"\n",
    "    df_final = create_dataframe(json_1, json_2, chosenlabel)\n",
    "    dict_of_iou = {}\n",
    "    for row in df_final.itertuples():\n",
    "        studyid = row.id\n",
    "        x1 = row.x1\n",
    "        x2 = row.x2\n",
    "        x3 = row.x3\n",
    "        x4 = row.x4\n",
    "        y1 = row.y1\n",
    "        y2 = row.y2\n",
    "        y3 = row.y3\n",
    "        y4 = row.y4\n",
    "        box1 = [x1,y1,x2,y2]\n",
    "        box2 = [x3,y3,x4,y4]\n",
    "        iou = bb_intersection_over_union(box1,box2)\n",
    "        dict_of_iou[studyid] = iou\n",
    "        \n",
    "    return dict_of_iou"
   ]
  },
  {
   "cell_type": "code",
   "execution_count": 9,
   "metadata": {},
   "outputs": [],
   "source": [
    "def get_measures(list_of_iou):\n",
    "    \"\"\"Print the accuracy metrics.\"\"\"\n",
    "\n",
    "    print(f'The resident has the following accuracy metrics (based on Intersection over Union):')\n",
    "    print(f'Mean:{mean(list_of_iou)}\\nMedian: {median(list_of_iou)}')\n",
    "    print(f'Min:{min(list_of_iou)}\\nMax:{max(list_of_iou)}')\n"
   ]
  },
  {
   "cell_type": "code",
   "execution_count": 10,
   "metadata": {},
   "outputs": [],
   "source": [
    "def evaluation_bounding_box(json_1, json_2, chosenlabel):\n",
    "    \"\"\"Main script to run.\n",
    "    Arguments: json files to load (2 files to compare).\"\"\"\n",
    "    json_answer_1 = openjson(json_1)\n",
    "    json_answer_2 = openjson(json_2)\n",
    "    list_of_iou = listofIoU(json_answer_1, json_answer_2, chosenlabel)\n",
    "    #get_measures(list_of_iou)\n",
    "    return list_of_iou"
   ]
  },
  {
   "cell_type": "code",
   "execution_count": 11,
   "metadata": {},
   "outputs": [],
   "source": [
    "def get_chosenlabel_list(filename_list):\n",
    "    chosenlabel=[]\n",
    "    for filename in filename_list:\n",
    "        if filename is not None:\n",
    "            jsonfile = openjson(filename)\n",
    "            for groups in jsonfile['labelGroups']:\n",
    "                existing_labels = groups['labels']\n",
    "                for label in existing_labels:\n",
    "                    if label['name'] == label_name:\n",
    "                        chosenlabel.append(label['id'])\n",
    "        else:\n",
    "            pass\n",
    "    return chosenlabel"
   ]
  },
  {
   "cell_type": "code",
   "execution_count": 12,
   "metadata": {},
   "outputs": [],
   "source": [
    "def iou_of_residents(filename_list, chosenlabel):\n",
    "    output = pd.DataFrame(columns = ['id'])\n",
    "    resident_number = 1\n",
    "    for i in filename_list:\n",
    "        if i == json_1:\n",
    "            pass\n",
    "        elif i is None:\n",
    "            pass\n",
    "        else:\n",
    "            dict_of_acuracies = evaluation_bounding_box(filename_list[0],i,chosenlabel)\n",
    "            df_dictionary = pd.DataFrame([dict_of_acuracies])\n",
    "            df_dictionary = pd.DataFrame([dict_of_acuracies])\n",
    "            df_dictionary = df_dictionary.transpose()            \n",
    "            df_dictionary = df_dictionary.reset_index()\n",
    "            df_dictionary.columns = ['id',f'resident_{resident_number}_score']\n",
    "            output = output.merge(df_dictionary, how='outer', on='id')\n",
    "            resident_number +=1\n",
    "    return output"
   ]
  },
  {
   "cell_type": "markdown",
   "metadata": {},
   "source": [
    "## Manual data entry needed:\n",
    "Add the necessary data in order to run the script and obtain the residents scores."
   ]
  },
  {
   "cell_type": "code",
   "execution_count": 13,
   "metadata": {},
   "outputs": [],
   "source": [
    "#Preparing to run the script\n",
    "#File for ground truth:\n",
    "json_1 = \"specialist.json\"\n",
    "#File for residents to be evaluated:\n",
    "json_2 = \"resident1.json\"\n",
    "json_3 = \"resident2.json\"\n",
    "json_4 = \"resident3.json\"\n",
    "json_5 = None\n",
    "json_6 = None\n",
    "#Name of the label to evaluate - If unsure of all the labels existing use get_label_names(filename)\n",
    "label_name = \"Mass\"\n"
   ]
  },
  {
   "cell_type": "code",
   "execution_count": 14,
   "metadata": {},
   "outputs": [
    {
     "data": {
      "text/html": [
       "<div>\n",
       "<style scoped>\n",
       "    .dataframe tbody tr th:only-of-type {\n",
       "        vertical-align: middle;\n",
       "    }\n",
       "\n",
       "    .dataframe tbody tr th {\n",
       "        vertical-align: top;\n",
       "    }\n",
       "\n",
       "    .dataframe thead th {\n",
       "        text-align: right;\n",
       "    }\n",
       "</style>\n",
       "<table border=\"1\" class=\"dataframe\">\n",
       "  <thead>\n",
       "    <tr style=\"text-align: right;\">\n",
       "      <th></th>\n",
       "      <th>id</th>\n",
       "      <th>resident_1_score</th>\n",
       "      <th>resident_2_score</th>\n",
       "      <th>resident_3_score</th>\n",
       "    </tr>\n",
       "  </thead>\n",
       "  <tbody>\n",
       "    <tr>\n",
       "      <th>0</th>\n",
       "      <td>1.3.6.1.4.1.9590.100.1.2.110937021913447778701...</td>\n",
       "      <td>0.918871</td>\n",
       "      <td>0.926531</td>\n",
       "      <td>0.985570</td>\n",
       "    </tr>\n",
       "    <tr>\n",
       "      <th>1</th>\n",
       "      <td>1.3.6.1.4.1.9590.100.1.2.119685568312982243230...</td>\n",
       "      <td>0.000000</td>\n",
       "      <td>0.000000</td>\n",
       "      <td>NaN</td>\n",
       "    </tr>\n",
       "    <tr>\n",
       "      <th>2</th>\n",
       "      <td>1.3.6.1.4.1.9590.100.1.2.128450943011232588835...</td>\n",
       "      <td>0.975047</td>\n",
       "      <td>0.926623</td>\n",
       "      <td>NaN</td>\n",
       "    </tr>\n",
       "    <tr>\n",
       "      <th>3</th>\n",
       "      <td>1.3.6.1.4.1.9590.100.1.2.195411583812846996830...</td>\n",
       "      <td>0.000000</td>\n",
       "      <td>0.000000</td>\n",
       "      <td>0.000000</td>\n",
       "    </tr>\n",
       "    <tr>\n",
       "      <th>4</th>\n",
       "      <td>1.3.6.1.4.1.9590.100.1.2.218230735110408535824...</td>\n",
       "      <td>0.929363</td>\n",
       "      <td>0.881743</td>\n",
       "      <td>0.926842</td>\n",
       "    </tr>\n",
       "  </tbody>\n",
       "</table>\n",
       "</div>"
      ],
      "text/plain": [
       "                                                  id  resident_1_score  \\\n",
       "0  1.3.6.1.4.1.9590.100.1.2.110937021913447778701...          0.918871   \n",
       "1  1.3.6.1.4.1.9590.100.1.2.119685568312982243230...          0.000000   \n",
       "2  1.3.6.1.4.1.9590.100.1.2.128450943011232588835...          0.975047   \n",
       "3  1.3.6.1.4.1.9590.100.1.2.195411583812846996830...          0.000000   \n",
       "4  1.3.6.1.4.1.9590.100.1.2.218230735110408535824...          0.929363   \n",
       "\n",
       "   resident_2_score  resident_3_score  \n",
       "0          0.926531          0.985570  \n",
       "1          0.000000               NaN  \n",
       "2          0.926623               NaN  \n",
       "3          0.000000          0.000000  \n",
       "4          0.881743          0.926842  "
      ]
     },
     "execution_count": 14,
     "metadata": {},
     "output_type": "execute_result"
    }
   ],
   "source": [
    "filename_list=[json_1,json_2,json_3,json_4,json_5,json_6] #The list of filenames to evaluate\n",
    "chosenlabel = get_chosenlabel_list(filename_list) #The list of labels to be evaluated\n",
    "df = iou_of_residents(filename_list, chosenlabel) #A pandas dataframe to gather the intersection over union scores\n",
    "df.head()"
   ]
  },
  {
   "cell_type": "code",
   "execution_count": 15,
   "metadata": {
    "scrolled": true
   },
   "outputs": [],
   "source": [
    "resident1_dropped_na = df['resident_1_score'].dropna()\n",
    "resident2_dropped_na = df['resident_2_score'].dropna()\n",
    "resident3_dropped_na = df['resident_3_score'].dropna()\n",
    "df_filled = df.fillna(0)\n",
    "resident1 = df_filled['resident_1_score']\n",
    "resident2 = df_filled['resident_2_score']\n",
    "resident3 = df_filled['resident_3_score']"
   ]
  },
  {
   "cell_type": "markdown",
   "metadata": {},
   "source": [
    "Now that we extracted the scores from each resident, we can perform a adequate analysis."
   ]
  },
  {
   "cell_type": "code",
   "execution_count": 16,
   "metadata": {
    "scrolled": false
   },
   "outputs": [
    {
     "name": "stdout",
     "output_type": "stream",
     "text": [
      "Total number of cases: 50\n",
      "\n",
      "Number of cases where the resident did not labeled any lesion:\n",
      "Resident 1 : 5 cases\n",
      "Resident 2 : 8 cases\n",
      "Resident 3 : 12 cases\n"
     ]
    }
   ],
   "source": [
    "print(f\"Total number of cases: {(df.shape)[0]-1}\")\n",
    "print('\\nNumber of cases where the resident did not labeled any lesion:')\n",
    "resident_number_cases = 1\n",
    "for i in filename_list:\n",
    "        if i == json_1:\n",
    "            pass\n",
    "        elif i is None:\n",
    "            pass\n",
    "        else:\n",
    "            print(f\"Resident {resident_number_cases} : {df.isnull().sum(axis = 0)[resident_number_cases]} cases\")\n",
    "\n",
    "            resident_number_cases +=1"
   ]
  },
  {
   "cell_type": "code",
   "execution_count": 17,
   "metadata": {},
   "outputs": [
    {
     "name": "stdout",
     "output_type": "stream",
     "text": [
      "Mean score in annotated cases:\n",
      "Resident 1 score: 0.6148095723922848.\n",
      "Resident 2 score: 0.5168271316819512.\n",
      "Resident 3 score: 0.6642201247909879.\n",
      "\n",
      "Mean score in the total number of cases:\n",
      "Resident 1 score: 0.5545341241185314.\n",
      "Resident 2 score: 0.43575620906517454.\n",
      "Resident 3 score: 0.5079330366048731.\n"
     ]
    }
   ],
   "source": [
    "print(\"Mean score in annotated cases:\")\n",
    "print(f\"Resident 1 score: {resident1_dropped_na.mean()}.\")\n",
    "print(f\"Resident 2 score: {resident2_dropped_na.mean()}.\")\n",
    "print(f\"Resident 3 score: {resident3_dropped_na.mean()}.\")\n",
    "\n",
    "print(\"\\nMean score in the total number of cases:\")\n",
    "print(f\"Resident 1 score: {resident1.mean()}.\")\n",
    "print(f\"Resident 2 score: {resident2.mean()}.\")\n",
    "print(f\"Resident 3 score: {resident3.mean()}.\")"
   ]
  },
  {
   "cell_type": "code",
   "execution_count": 18,
   "metadata": {},
   "outputs": [
    {
     "data": {
      "image/png": "[encoded data removed]",
      "text/plain": [
       "<Figure size 432x288 with 1 Axes>"
      ]
     },
     "metadata": {
      "needs_background": "light"
     },
     "output_type": "display_data"
    }
   ],
   "source": [
    "df_melt = pd.melt(df.reset_index(), value_vars=['resident_1_score', 'resident_2_score', 'resident_3_score'])\n",
    "# replace column names\n",
    "df_melt.columns = [ 'users', 'IoU Score value']\n",
    "\n",
    "ax = sns.boxplot(x='users', y='IoU Score value', data=df_melt, color='#99c2a2')\n",
    "plt.show()"
   ]
  },
  {
   "cell_type": "markdown",
   "metadata": {},
   "source": [
    "### Statistical analysis:\n",
    "#### One-way ANOVA "
   ]
  },
  {
   "cell_type": "code",
   "execution_count": 19,
   "metadata": {
    "scrolled": true
   },
   "outputs": [
    {
     "name": "stdout",
     "output_type": "stream",
     "text": [
      "One-way ANOVA in annotated cases:\n",
      "ANOVA f-value: 1.4060644963739442\n",
      "ANOVA p-value: 0.24895536975262178\n",
      "No statistical difference was found between the means of the groups.\n",
      "\n",
      "One-way ANOVA in the total number of cases:\n",
      "ANOVA f-value: 0.9673988809571303\n",
      "ANOVA p-value: 0.3824287387440096\n",
      "No statistical difference was found between the means of the groups.\n"
     ]
    }
   ],
   "source": [
    "# stats f_oneway functions takes the groups as input and returns ANOVA F and p value\n",
    "\n",
    "print(\"One-way ANOVA in annotated cases:\")\n",
    "\n",
    "fvalue, pvalue = stats.f_oneway(resident1_dropped_na, resident2_dropped_na, resident3_dropped_na)\n",
    "print(f\"ANOVA f-value: {fvalue}\\nANOVA p-value: {pvalue}\")\n",
    "\n",
    "if pvalue > 0.05:\n",
    "    print(\"No statistical difference was found between the means of the groups.\")\n",
    "else:\n",
    "    print(\"A statistical difference was found between the means of the groups.\")\n",
    "\n",
    "\n",
    "print(\"\\nOne-way ANOVA in the total number of cases:\")\n",
    "fvalue, pvalue = stats.f_oneway(resident1, resident2, resident3)\n",
    "print(f\"ANOVA f-value: {fvalue}\\nANOVA p-value: {pvalue}\")\n",
    "\n",
    "if pvalue > 0.05:\n",
    "    print(\"No statistical difference was found between the means of the groups.\")\n",
    "else:\n",
    "    print(\"A statistical difference was found between the means of the groups.\")\n"
   ]
  }
 ],
 "metadata": {
  "kernelspec": {
   "display_name": "Python 3",
   "language": "python",
   "name": "python3"
  },
  "language_info": {
   "codemirror_mode": {
    "name": "ipython",
    "version": 3
   },
   "file_extension": ".py",
   "mimetype": "text/x-python",
   "name": "python",
   "nbconvert_exporter": "python",
   "pygments_lexer": "ipython3",
   "version": "3.7.3"
  }
 },
 "nbformat": 4,
 "nbformat_minor": 2
}
